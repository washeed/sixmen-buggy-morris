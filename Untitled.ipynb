{
 "cells": [
  {
   "cell_type": "code",
   "execution_count": null,
   "id": "bb8140d8-0e8c-42fa-9cd6-b3679a0379d8",
   "metadata": {},
   "outputs": [
    {
     "name": "stdout",
     "output_type": "stream",
     "text": [
      "Playing game...\n",
      "  ---------   ---------  \n",
      "|           |           |\n",
      "|      ----   ----      |\n",
      "|   |               |   |\n",
      "  -                   -  \n",
      "|   |               |   |\n",
      "|      ----   ----      |\n",
      "|           |           |\n",
      "  ---------   ---------  \n",
      "Valid moves\n",
      "[(0, 1), (0, 7), (1, 2), (0, 4), (1, 5), (0, 2), (0, 5), (1, 0), (1, 6), (1, 3), (0, 0), (1, 1), (0, 3), (1, 4), (0, 6), (1, 7)]\n"
     ]
    },
    {
     "name": "stdin",
     "output_type": "stream",
     "text": [
      "Pick the index of your move:  0\n"
     ]
    },
    {
     "name": "stdout",
     "output_type": "stream",
     "text": [
      "Selected move: \n",
      "(0, 1)\n",
      "Max after 4.422912836074829 seconds.\n",
      "  --------- A ---------  \n",
      "|           |           |\n",
      "|      ----   ----      |\n",
      "|   |               |   |\n",
      "  -                   -  \n",
      "|   |               |   |\n",
      "|      ----   ----      |\n",
      "|           |           |\n",
      "  ---------   ---------  \n",
      "Valid moves\n",
      "[(1, 2), (0, 4), (1, 5), (0, 0), (1, 1), (0, 3), (1, 4), (0, 6), (0, 2), (1, 7), (0, 5), (1, 0), (1, 6), (1, 3)]\n"
     ]
    },
    {
     "name": "stdin",
     "output_type": "stream",
     "text": [
      "Pick the index of your move:  3\n"
     ]
    },
    {
     "name": "stdout",
     "output_type": "stream",
     "text": [
      "Selected move: \n",
      "(0, 0)\n",
      "Min after 9.618402481079102 seconds.\n",
      "  --------- A ---------  \n",
      "|           |           |\n",
      "|      ----   ----      |\n",
      "|   |               |   |\n",
      "I -                   -  \n",
      "|   |               |   |\n",
      "|      ----   ----      |\n",
      "|           |           |\n",
      "  ---------   ---------  \n",
      "Valid moves\n",
      "[(1, 2), (0, 4), (1, 5), (0, 0), (1, 1), (0, 3), (1, 4), (0, 6), (0, 2), (1, 7), (0, 5), (1, 0), (1, 6), (1, 3)]\n"
     ]
    },
    {
     "name": "stdin",
     "output_type": "stream",
     "text": [
      "Pick the index of your move:  3\n"
     ]
    },
    {
     "name": "stdout",
     "output_type": "stream",
     "text": [
      "Selected move: \n",
      "(0, 0)\n",
      "Max after 5.767683744430542 seconds.\n",
      "A --------- A ---------  \n",
      "|           |           |\n",
      "|      ----   ----      |\n",
      "|   |               |   |\n",
      "I -                   -  \n",
      "|   |               |   |\n",
      "|      ----   ----      |\n",
      "|           |           |\n",
      "  ---------   ---------  \n",
      "Valid moves\n",
      "[(0, 4), (1, 5), (1, 1), (0, 3), (1, 4), (0, 6), (0, 2), (1, 7), (0, 5), (1, 0), (1, 6), (1, 3)]\n"
     ]
    },
    {
     "name": "stdin",
     "output_type": "stream",
     "text": [
      "Pick the index of your move:  6\n"
     ]
    },
    {
     "name": "stdout",
     "output_type": "stream",
     "text": [
      "Selected move: \n",
      "(0, 2)\n",
      "Min after 14.13052225112915 seconds.\n",
      "A --------- A ---------  \n",
      "|           |           |\n",
      "|      ----   ---- I    |\n",
      "|   |               |   |\n",
      "I -                   -  \n",
      "|   |               |   |\n",
      "|      ----   ----      |\n",
      "|           |           |\n",
      "  ---------   ---------  \n",
      "Valid moves\n",
      "[(0, 4), (1, 5), (1, 1), (0, 3), (1, 4), (0, 6), (0, 2), (1, 7), (0, 5), (1, 0), (1, 6), (1, 3)]\n"
     ]
    },
    {
     "name": "stdin",
     "output_type": "stream",
     "text": [
      "Pick the index of your move:  6\n"
     ]
    },
    {
     "name": "stdout",
     "output_type": "stream",
     "text": [
      "Selected move: \n",
      "(0, 2)\n",
      "Max after 12.272810697555542 seconds.\n",
      "A --------- A --------- A\n",
      "|           |           |\n",
      "|      ----   ---- I    |\n",
      "|   |               |   |\n",
      "  -                   -  \n",
      "|   |               |   |\n",
      "|      ----   ----      |\n",
      "|           |           |\n",
      "  ---------   ---------  \n",
      "Valid moves\n",
      "[(0, 4), (1, 5), (1, 1), (0, 3), (1, 4), (0, 6), (1, 7), (0, 5), (1, 0), (1, 6), (1, 3)]\n"
     ]
    },
    {
     "name": "stdin",
     "output_type": "stream",
     "text": [
      "Pick the index of your move:  3\n"
     ]
    },
    {
     "name": "stdout",
     "output_type": "stream",
     "text": [
      "Selected move: \n",
      "(0, 3)\n",
      "Min after 23.09084391593933 seconds.\n",
      "A --------- A --------- A\n",
      "|           |           |\n",
      "|      ----   ---- I    |\n",
      "|   |               |   |\n",
      "I -                   -  \n",
      "|   |               |   |\n",
      "|      ----   ----      |\n",
      "|           |           |\n",
      "  ---------   ---------  \n",
      "Valid moves\n",
      "[(0, 4), (1, 5), (1, 1), (0, 3), (1, 4), (0, 6), (1, 7), (0, 5), (1, 0), (1, 6), (1, 3)]\n"
     ]
    },
    {
     "name": "stdin",
     "output_type": "stream",
     "text": [
      "Pick the index of your move:  3\n"
     ]
    },
    {
     "name": "stdout",
     "output_type": "stream",
     "text": [
      "Selected move: \n",
      "(0, 3)\n",
      "Max after 8.07883882522583 seconds.\n",
      "A --------- A --------- A\n",
      "|           |           |\n",
      "|      ----   ---- I    |\n",
      "|   |               |   |\n",
      "I -                   - A\n",
      "|   |               |   |\n",
      "|      ----   ----      |\n",
      "|           |           |\n",
      "  ---------   ---------  \n",
      "Valid moves\n",
      "[(1, 5), (1, 1), (1, 4), (0, 6), (1, 7), (0, 5), (1, 0), (1, 6), (1, 3)]\n"
     ]
    },
    {
     "name": "stdin",
     "output_type": "stream",
     "text": [
      "Pick the index of your move:  5\n"
     ]
    },
    {
     "name": "stdout",
     "output_type": "stream",
     "text": [
      "Selected move: \n",
      "(0, 5)\n",
      "Min after 47.19958257675171 seconds.\n",
      "A --------- A --------- A\n",
      "|           |           |\n",
      "|      ----   ---- I    |\n",
      "|   |               |   |\n",
      "I -                   - A\n",
      "|   |               |   |\n",
      "|      ----   ----      |\n",
      "|           |           |\n",
      "  ---------   --------- I\n",
      "Valid moves\n",
      "[(1, 5), (1, 1), (1, 4), (0, 6), (1, 7), (0, 5), (1, 0), (1, 6), (1, 3)]\n"
     ]
    },
    {
     "name": "stdin",
     "output_type": "stream",
     "text": [
      "Pick the index of your move:  5\n"
     ]
    },
    {
     "name": "stdout",
     "output_type": "stream",
     "text": [
      "Selected move: \n",
      "(0, 5)\n",
      "Max after 39.406692028045654 seconds.\n",
      "A --------- A --------- A\n",
      "|           |           |\n",
      "|      ----   ---- I    |\n",
      "|   |               |   |\n",
      "I -                   - A\n",
      "|   |               |   |\n",
      "|      ----   ----      |\n",
      "|           |           |\n",
      "  --------- A --------- I\n",
      "Valid moves\n",
      "[(1, 1), (1, 4), (0, 6), (1, 7), (1, 0), (1, 6), (1, 3)]\n"
     ]
    },
    {
     "name": "stdin",
     "output_type": "stream",
     "text": [
      "Pick the index of your move:  2\n"
     ]
    },
    {
     "name": "stdout",
     "output_type": "stream",
     "text": [
      "Selected move: \n",
      "(0, 6)\n",
      "Min after 21.767874479293823 seconds.\n",
      "A --------- A --------- A\n",
      "|           |           |\n",
      "|      ----   ---- I    |\n",
      "|   |               |   |\n",
      "I -                   - A\n",
      "|   |               |   |\n",
      "|      ---- I ----      |\n",
      "|           |           |\n",
      "  --------- A --------- I\n",
      "Valid moves\n",
      "[(1, 1), (1, 4), (0, 6), (1, 7), (1, 0), (1, 6), (1, 3)]\n"
     ]
    },
    {
     "name": "stdin",
     "output_type": "stream",
     "text": [
      "Pick the index of your move:  2\n"
     ]
    },
    {
     "name": "stdout",
     "output_type": "stream",
     "text": [
      "Selected move: \n",
      "(0, 6)\n",
      "Max after 13.202760219573975 seconds.\n",
      "A --------- A --------- A\n",
      "|           |           |\n",
      "|      ----   ---- I    |\n",
      "|   |               |   |\n",
      "I -                   - A\n",
      "|   |               |   |\n",
      "|      ---- I ----      |\n",
      "|           |           |\n",
      "A --------- A --------- I\n",
      "Valid moves\n",
      "[(0, 3, 1, 3)]\n"
     ]
    },
    {
     "name": "stdin",
     "output_type": "stream",
     "text": [
      "Pick the index of your move:  0\n"
     ]
    },
    {
     "name": "stdout",
     "output_type": "stream",
     "text": [
      "Selected move: \n",
      "(0, 3, 1, 3)\n",
      "Min after 12.24115252494812 seconds.\n",
      "A --------- A --------- A\n",
      "|           |           |\n",
      "|      ---- I ---- I    |\n",
      "|   |               |   |\n",
      "I -                   - A\n",
      "|   |               |   |\n",
      "|      ---- I ----      |\n",
      "|           |           |\n",
      "A --------- A --------- I\n",
      "Valid moves\n",
      "[(0, 3, 1, 3)]\n"
     ]
    },
    {
     "name": "stdin",
     "output_type": "stream",
     "text": [
      "Pick the index of your move:  0\n"
     ]
    },
    {
     "name": "stdout",
     "output_type": "stream",
     "text": [
      "Selected move: \n",
      "(0, 3, 1, 3)\n",
      "Max after 5.63299822807312 seconds.\n",
      "A --------- A --------- A\n",
      "|           |           |\n",
      "|      ---- I ---- I    |\n",
      "|   |               |   |\n",
      "I -                 A -  \n",
      "|   |               |   |\n",
      "|      ---- I ----      |\n",
      "|           |           |\n",
      "A --------- A --------- I\n",
      "Valid moves\n",
      "[(0, 2, 0, 3), (0, 0, 0, 7), (1, 3, 0, 3), (1, 3, 1, 4), (0, 6, 0, 7)]\n"
     ]
    }
   ],
   "source": [
    "\n",
    "from alphabeta6 import MinPlayer\n",
    "from six_men_morris import SixMensMorris\n",
    "from player import MyPlayer\n",
    "max_player = MyPlayer()\n",
    "min_player = MinPlayer()\n",
    "\n",
    "max_player.assume(min_player)\n",
    "min_player.assume(max_player)\n",
    "\n",
    "game = SixMensMorris()\n",
    "game.play(max_player, min_player)\n"
   ]
  },
  {
   "cell_type": "raw",
   "id": "bbb4262b-1028-410c-a438-c2f2e39400be",
   "metadata": {},
   "source": [
    "\n",
    "\n",
    "\n",
    "\n",
    "0,0---------0,1---------0,2  \n",
    " |           |           |\n",
    " |  1,0----1,1 ---- 1,2  |\n",
    " |   |               |   |\n",
    "0,7 -1,7           1,3- 0,3 \n",
    " |   |               |   |\n",
    " |  1,6---- 1,5 ----1,4  |\n",
    " |           |           |\n",
    "0,6---------0,5--------- 0,4 \n",
    "\n"
   ]
  },
  {
   "cell_type": "code",
   "execution_count": null,
   "id": "6e112578-6c6c-4732-9bc2-1b9545b0e6e0",
   "metadata": {},
   "outputs": [],
   "source": []
  }
 ],
 "metadata": {
  "kernelspec": {
   "display_name": "Python 3 (ipykernel)",
   "language": "python",
   "name": "python3"
  },
  "language_info": {
   "codemirror_mode": {
    "name": "ipython",
    "version": 3
   },
   "file_extension": ".py",
   "mimetype": "text/x-python",
   "name": "python",
   "nbconvert_exporter": "python",
   "pygments_lexer": "ipython3",
   "version": "3.9.13"
  }
 },
 "nbformat": 4,
 "nbformat_minor": 5
}
